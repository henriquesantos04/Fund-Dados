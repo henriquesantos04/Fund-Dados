{
 "cells": [
  {
   "cell_type": "code",
   "execution_count": 1,
   "metadata": {},
   "outputs": [
    {
     "name": "stdout",
     "output_type": "stream",
     "text": [
      "Meu nome é Henrique, tenho 20 anos e minha altura é 1,67 metros.\n"
     ]
    }
   ],
   "source": [
    "nome = \"Henrique\"\n",
    "idade = \"20\"\n",
    "altura = \"1,67\"\n",
    "print(\"Meu nome é {a}, tenho {b} anos e minha altura é {c} metros.\".format(a = nome, b = idade, c = altura))\n",
    "     "
   ]
  },
  {
   "cell_type": "code",
   "execution_count": null,
   "metadata": {},
   "outputs": [
    {
     "name": "stdout",
     "output_type": "stream",
     "text": [
      "PYTHON É UMA LINGUAGEM DE PROGRAMAÇÃO MUITO PODEROSA.\n"
     ]
    }
   ],
   "source": [
    "frase = \"Python é uma linguagem de programação muito poderosa.\"\n",
    "print(frase.upper())"
   ]
  },
  {
   "cell_type": "code",
   "execution_count": 3,
   "metadata": {},
   "outputs": [
    {
     "name": "stdout",
     "output_type": "stream",
     "text": [
      "python é uma linguagem de programação muito poderosa.\n"
     ]
    }
   ],
   "source": [
    "\n",
    "print(frase.lower())"
   ]
  },
  {
   "cell_type": "code",
   "execution_count": 4,
   "metadata": {},
   "outputs": [
    {
     "name": "stdout",
     "output_type": "stream",
     "text": [
      "Python é uma linguagem de programação extremamente poderosa.\n"
     ]
    }
   ],
   "source": [
    "print(frase.replace(\"muito\",\"extremamente\"))"
   ]
  },
  {
   "cell_type": "code",
   "execution_count": 5,
   "metadata": {},
   "outputs": [
    {
     "data": {
      "text/plain": [
       "['Python', 'é', 'uma', 'linguagem', 'de', 'programação', 'muito', 'poderosa.']"
      ]
     },
     "execution_count": 5,
     "metadata": {},
     "output_type": "execute_result"
    }
   ],
   "source": [
    "frase.split()"
   ]
  },
  {
   "cell_type": "code",
   "execution_count": 6,
   "metadata": {},
   "outputs": [
    {
     "name": "stdout",
     "output_type": "stream",
     "text": [
      "['maçã', 'banana', 'laranja', 'uva', 'abacaxi']\n"
     ]
    }
   ],
   "source": [
    "frutas = [\"maçã\",\"banana\",\"laranja\",\"uva\",\"abacaxi\"]\n",
    "print(frutas)"
   ]
  },
  {
   "cell_type": "code",
   "execution_count": 7,
   "metadata": {},
   "outputs": [
    {
     "name": "stdout",
     "output_type": "stream",
     "text": [
      "['maçã', 'banana', 'laranja', 'uva', 'abacaxi', 'manga']\n"
     ]
    }
   ],
   "source": [
    "frutas.append(\"manga\")\n",
    "print(frutas)"
   ]
  },
  {
   "cell_type": "code",
   "execution_count": 8,
   "metadata": {},
   "outputs": [
    {
     "name": "stdout",
     "output_type": "stream",
     "text": [
      "['maçã', 'banana', 'uva', 'abacaxi', 'manga']\n"
     ]
    }
   ],
   "source": [
    "frutas.remove(\"laranja\")\n",
    "print(frutas)"
   ]
  },
  {
   "cell_type": "code",
   "execution_count": 9,
   "metadata": {},
   "outputs": [
    {
     "data": {
      "text/plain": [
       "'uva'"
      ]
     },
     "execution_count": 9,
     "metadata": {},
     "output_type": "execute_result"
    }
   ],
   "source": [
    "frutas[2]"
   ]
  },
  {
   "cell_type": "code",
   "execution_count": 10,
   "metadata": {},
   "outputs": [
    {
     "name": "stdout",
     "output_type": "stream",
     "text": [
      "['abacaxi', 'banana', 'manga', 'maçã', 'uva']\n"
     ]
    }
   ],
   "source": [
    "frutas.sort()\n",
    "print(frutas)"
   ]
  },
  {
   "cell_type": "code",
   "execution_count": 11,
   "metadata": {},
   "outputs": [
    {
     "data": {
      "text/plain": [
       "32"
      ]
     },
     "execution_count": 11,
     "metadata": {},
     "output_type": "execute_result"
    }
   ],
   "source": [
    "numeros = [10,5,8,3,6]\n",
    "sum(numeros)"
   ]
  },
  {
   "cell_type": "code",
   "execution_count": 5,
   "metadata": {},
   "outputs": [
    {
     "name": "stdout",
     "output_type": "stream",
     "text": [
      "Digite sua altura (em m):\n",
      "Digite seu peso (em kg):\n",
      "O seu IMC é: 30.48\n"
     ]
    }
   ],
   "source": [
    "print(\"Digite sua altura (em m):\")\n",
    "altura = input()\n",
    "print(\"Digite seu peso (em kg):\")\n",
    "peso = input()\n",
    "IMC = float(peso)/(float(altura) ** 2)\n",
    "print(\"O seu IMC é:\",round(IMC,2))"
   ]
  },
  {
   "cell_type": "code",
   "execution_count": 6,
   "metadata": {},
   "outputs": [
    {
     "name": "stdout",
     "output_type": "stream",
     "text": [
      "Digite o seu nome completo:\n",
      "Olá, Henrique\n"
     ]
    }
   ],
   "source": [
    "print(\"Digite o seu nome completo:\")\n",
    "nome = input()\n",
    "lista = nome.split()\n",
    "print(\"Olá,\", lista[0])"
   ]
  },
  {
   "cell_type": "code",
   "execution_count": 7,
   "metadata": {},
   "outputs": [
    {
     "name": "stdout",
     "output_type": "stream",
     "text": [
      "Digite o seu e-mail:\n",
      "O domínio do seu e-mail é: hotmail.com\n"
     ]
    }
   ],
   "source": [
    "print(\"Digite o seu e-mail:\")\n",
    "email = input()\n",
    "email_separado = email.split(\"@\")\n",
    "print(\"O domínio do seu e-mail é:\",email_separado[1])"
   ]
  },
  {
   "cell_type": "code",
   "execution_count": 1,
   "metadata": {},
   "outputs": [
    {
     "name": "stdout",
     "output_type": "stream",
     "text": [
      "\n",
      "Salário bruto: R$ 1518.00\n",
      "Desconto do INSS: R$ 121.44\n",
      "Desconto do sindicato: R$ 75.90\n",
      "Salário líquido: R$ 1153.68\n"
     ]
    }
   ],
   "source": [
    "\n",
    "ganho_por_hora = float(input(\"Quanto você ganha por hora? R$ \"))\n",
    "horas_trabalhadas = float(input(\"Quantas horas você trabalhou no mês? \"))\n",
    "\n",
    "salario_bruto = ganho_por_hora * horas_trabalhadas\n",
    "\n",
    "\n",
    "imposto_renda = salario_bruto * 0.11\n",
    "inss = salario_bruto * 0.08\n",
    "sindicato = salario_bruto * 0.05\n",
    "\n",
    "\n",
    "salario_liquido = salario_bruto - imposto_renda - inss - sindicato\n",
    "\n",
    "print(f\"\\nSalário bruto: R$ {salario_bruto:.2f}\")\n",
    "print(f\"Desconto do INSS: R$ {inss:.2f}\")\n",
    "print(f\"Desconto do sindicato: R$ {sindicato:.2f}\")\n",
    "print(f\"Salário líquido: R$ {salario_liquido:.2f}\")\n"
   ]
  },
  {
   "cell_type": "code",
   "execution_count": 2,
   "metadata": {},
   "outputs": [
    {
     "name": "stdout",
     "output_type": "stream",
     "text": [
      "Dicionário inicial: {'nome': 'Carlos', 'idade': 30, 'cidade': 'São Paulo'}\n",
      "Nome da pessoa: Carlos\n",
      "Dicionário após alteração de idade: {'nome': 'Carlos', 'idade': 31, 'cidade': 'São Paulo'}\n",
      "Dicionário após adicionar profissão: {'nome': 'Carlos', 'idade': 31, 'cidade': 'São Paulo', 'profissão': 'engenheiro'}\n",
      "Dicionário após remoção da chave 'cidade': {'nome': 'Carlos', 'idade': 31, 'profissão': 'engenheiro'}\n",
      "Chaves do dicionário: dict_keys(['nome', 'idade', 'profissão'])\n",
      "Valores do dicionário: dict_values(['Carlos', 31, 'engenheiro'])\n"
     ]
    }
   ],
   "source": [
    "# Criando o dicionário\n",
    "pessoa = {\n",
    "    \"nome\": \"Carlos\",\n",
    "    \"idade\": 30,\n",
    "    \"cidade\": \"São Paulo\"\n",
    "}\n",
    "\n",
    "\n",
    "print(\"Dicionário inicial:\", pessoa)\n",
    "\n",
    "print(\"Nome da pessoa:\", pessoa[\"nome\"])\n",
    "\n",
    "pessoa[\"idade\"] = 31\n",
    "print(\"Dicionário após alteração de idade:\", pessoa)\n",
    "\n",
    "pessoa[\"profissão\"] = \"engenheiro\"\n",
    "print(\"Dicionário após adicionar profissão:\", pessoa)\n",
    "\n",
    "del pessoa[\"cidade\"]\n",
    "print(\"Dicionário após remoção da chave 'cidade':\", pessoa)\n",
    "\n",
    "print(\"Chaves do dicionário:\", pessoa.keys())\n",
    "\n",
    "print(\"Valores do dicionário:\", pessoa.values())\n",
    "\n"
   ]
  },
  {
   "cell_type": "code",
   "execution_count": 3,
   "metadata": {},
   "outputs": [
    {
     "name": "stdout",
     "output_type": "stream",
     "text": [
      "Tupla cores: ('vermelho', 'azul', 'verde', 'amarelo', 'roxo')\n",
      "Segundo item da tupla cores: azul\n",
      "A cor 'azul' está na tupla? True\n",
      "Soma dos elementos da tupla numeros: 15\n",
      "Erro ao tentar alterar a tupla: 'tuple' object does not support item assignment\n",
      "Nova tupla nova_cores: ('vermelho', 'azul', 'verde', 'amarelo', 'roxo', 'preto', 'branco')\n"
     ]
    }
   ],
   "source": [
    "cores = (\"vermelho\", \"azul\", \"verde\", \"amarelo\", \"roxo\")\n",
    "\n",
    "print(\"Tupla cores:\", cores)\n",
    "\n",
    "print(\"Segundo item da tupla cores:\", cores[1])\n",
    "\n",
    "print(\"A cor 'azul' está na tupla?\", \"azul\" in cores)\n",
    "\n",
    "numeros = (1, 2, 3, 4, 5)\n",
    "\n",
    "print(\"Soma dos elementos da tupla numeros:\", sum(numeros))\n",
    "\n",
    "try:\n",
    "    cores[2] = \"laranja\"\n",
    "except TypeError as e:\n",
    "    print(\"Erro ao tentar alterar a tupla:\", e)\n",
    "\n",
    "nova_cores = cores + (\"preto\", \"branco\")\n",
    "print(\"Nova tupla nova_cores:\", nova_cores)\n"
   ]
  }
 ],
 "metadata": {
  "kernelspec": {
   "display_name": "base",
   "language": "python",
   "name": "python3"
  },
  "language_info": {
   "codemirror_mode": {
    "name": "ipython",
    "version": 3
   },
   "file_extension": ".py",
   "mimetype": "text/x-python",
   "name": "python",
   "nbconvert_exporter": "python",
   "pygments_lexer": "ipython3",
   "version": "3.11.5"
  }
 },
 "nbformat": 4,
 "nbformat_minor": 2
}
